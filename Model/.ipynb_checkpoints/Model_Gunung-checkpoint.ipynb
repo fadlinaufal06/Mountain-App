{
 "cells": [
  {
   "cell_type": "markdown",
   "id": "9b45ba96",
   "metadata": {},
   "source": [
    "# IMPORT LIBRARIES"
   ]
  },
  {
   "cell_type": "code",
   "execution_count": 1,
   "id": "58e5cdb2",
   "metadata": {},
   "outputs": [],
   "source": [
    "import os\n",
    "import zipfile\n",
    "import random\n",
    "import tensorflow as tf\n",
    "import numpy as np\n",
    "from tensorflow.keras.optimizers import RMSprop\n",
    "from tensorflow.keras.preprocessing.image import ImageDataGenerator\n",
    "from shutil import copyfile\n",
    "import random\n",
    "import matplotlib.pyplot as plt\n",
    "from sklearn.model_selection import GridSearchCV"
   ]
  },
  {
   "cell_type": "code",
   "execution_count": 7,
   "id": "5892ed77",
   "metadata": {},
   "outputs": [],
   "source": [
    "try:\n",
    "    os.mkdir('./semua-gunung')\n",
    "    os.mkdir('./semua-gunung/training')\n",
    "    os.mkdir('./semua-gunung/testing')\n",
    "except OSError:\n",
    "    pass\n",
    "\n",
    "list_iter = [\"training\",\"testing\"]\n",
    "list_gunung = os.listdir(\"./Gunung/\")\n",
    "\n",
    "for i in list_iter:\n",
    "    for j in list_gunung:\n",
    "        try:\n",
    "            os.mkdir(\"./semua-gunung/\"+i+\"/\"+j)\n",
    "        except OSError:\n",
    "            pass\n"
   ]
  },
  {
   "cell_type": "code",
   "execution_count": 8,
   "id": "f8e2c0ec",
   "metadata": {},
   "outputs": [],
   "source": [
    "def get_path(nama_gunung):\n",
    "    source = \"./Gunung/\" + nama_gunung + \"/\"\n",
    "    train_dest = \"./semua-gunung/training/\" + nama_gunung + \"/\"\n",
    "    test_dest = \"./semua-gunung/testing/\" + nama_gunung + \"/\"\n",
    "    \n",
    "    return source,train_dest,test_dest"
   ]
  },
  {
   "cell_type": "code",
   "execution_count": 9,
   "id": "fe5ef093",
   "metadata": {},
   "outputs": [],
   "source": [
    "def splitting(source, training, testing, split_size):\n",
    "    list_file = []\n",
    "    for _ in os.listdir(source):\n",
    "        file = source + _\n",
    "        if os.path.getsize(file) > 0:\n",
    "            list_file.append(_)\n",
    "\n",
    "    training_length = int(len(list_file) * split_size)\n",
    "    testing_length = int(len(list_file) - training_length)\n",
    "    shuffled_set = random.sample(list_file, len(list_file))\n",
    "    training_set = shuffled_set[0:training_length]\n",
    "    testing_set = shuffled_set[:testing_length]\n",
    "\n",
    "    for filename in training_set:\n",
    "        this_file = source + filename\n",
    "        destination = training + filename\n",
    "        copyfile(this_file, destination)\n",
    "\n",
    "    for filename in testing_set:\n",
    "        this_file = source + filename\n",
    "        destination = testing + filename\n",
    "        copyfile(this_file, destination)\n",
    "        \n",
    "rinjani_source, training_rinjani_dest, testing_rinjani_dest = get_path(\"Gunung Rinjani\")\n",
    "tangkuban_source, training_tangkuban_dest, testing_tangkuban_dest = get_path(\"Gunung Tangkuban Perahu\")\n",
    "bromo_source, training_bromo_dest, testing_bromo_dest = get_path(\"Gunung Bromo\")\n",
    "ijen_source, training_ijen_dest, testing_ijen_dest = get_path(\"Gunung Ijen\")\n",
    "papandayan_source, training_papandayan_dest, testing_papandayan_dest = get_path(\"Gunung Papandayan\")\n",
    "prau_source, training_prau_dest, testing_prau_dest = get_path(\"Gunung Prau\")\n",
    "\n",
    "split_size = 0.9\n",
    "splitting(rinjani_source,training_rinjani_dest,testing_rinjani_dest,split_size)\n",
    "splitting(tangkuban_source,training_tangkuban_dest,testing_tangkuban_dest,split_size)\n",
    "splitting(bromo_source,training_bromo_dest,testing_bromo_dest,split_size)\n",
    "splitting(ijen_source,training_ijen_dest,testing_ijen_dest,split_size)\n",
    "splitting(papandayan_source,training_papandayan_dest,testing_papandayan_dest,split_size)\n",
    "splitting(prau_source,training_prau_dest,testing_prau_dest,split_size)"
   ]
  },
  {
   "cell_type": "code",
   "execution_count": 10,
   "id": "39a4857e",
   "metadata": {},
   "outputs": [
    {
     "data": {
      "text/plain": [
       "['rinjani_1.jpg',\n",
       " 'rinjani_10.jpg',\n",
       " 'rinjani_11.jpg',\n",
       " 'rinjani_12.jpg',\n",
       " 'rinjani_13.jpg']"
      ]
     },
     "execution_count": 10,
     "metadata": {},
     "output_type": "execute_result"
    }
   ],
   "source": [
    "os.listdir('./Gunung/Gunung Rinjani/')[:5]"
   ]
  },
  {
   "cell_type": "markdown",
   "id": "fd81bfa1",
   "metadata": {},
   "source": [
    "# DEFINING CALLBACKS"
   ]
  },
  {
   "cell_type": "code",
   "execution_count": 2,
   "id": "7055f798",
   "metadata": {},
   "outputs": [],
   "source": [
    "lr_schedule = tf.keras.callbacks.LearningRateScheduler(\n",
    "    lambda epoch: 1e-7 * 10**(epoch/10))"
   ]
  },
  {
   "cell_type": "code",
   "execution_count": 3,
   "id": "96d3b707",
   "metadata": {},
   "outputs": [],
   "source": [
    "class myCallback(tf.keras.callbacks.Callback):\n",
    "    def on_epoch_end(self, epoch, logs={}):\n",
    "        if(logs.get('acc')>0.85):\n",
    "            print(\"\\nReached 85% accuracy so training done!\")\n",
    "            self.model.stop_training = True\n",
    "\n",
    "callbacks = myCallback()"
   ]
  },
  {
   "cell_type": "code",
   "execution_count": 4,
   "id": "ed5712f5",
   "metadata": {},
   "outputs": [],
   "source": [
    "checkpoint_cb = tf.keras.callbacks.ModelCheckpoint(\"my_keras_model.h5\", save_best_only= True)"
   ]
  },
  {
   "cell_type": "markdown",
   "id": "2f379b07",
   "metadata": {},
   "source": [
    "# MODEL BUILDING"
   ]
  },
  {
   "cell_type": "code",
   "execution_count": 5,
   "id": "65dff9b4",
   "metadata": {},
   "outputs": [],
   "source": [
    "model = tf.keras.models.Sequential([\n",
    "    tf.keras.layers.Conv2D(16, (3, 3), activation='relu', input_shape=(256, 256, 3)),\n",
    "    tf.keras.layers.MaxPooling2D(2, 2),\n",
    "    tf.keras.layers.Conv2D(32, (3, 3), activation='relu'),\n",
    "    tf.keras.layers.MaxPooling2D(2, 2),\n",
    "    tf.keras.layers.Conv2D(64, (3, 3), activation='relu'),\n",
    "    tf.keras.layers.MaxPooling2D(2, 2),\n",
    "    tf.keras.layers.Flatten(),\n",
    "    tf.keras.layers.Dense(1024, activation='relu'),\n",
    "    tf.keras.layers.Dropout(0.15),\n",
    "    tf.keras.layers.Dense(1024, activation='relu'),\n",
    "    tf.keras.layers.Dense(6, activation='softmax')\n",
    "])\n",
    "\n",
    "model.compile(optimizer=RMSprop(learning_rate=5e-04), loss='categorical_crossentropy', metrics=['acc'])"
   ]
  },
  {
   "cell_type": "code",
   "execution_count": 6,
   "id": "d1b9c243",
   "metadata": {},
   "outputs": [
    {
     "name": "stdout",
     "output_type": "stream",
     "text": [
      "Found 323 images belonging to 6 classes.\n",
      "Found 37 images belonging to 6 classes.\n"
     ]
    }
   ],
   "source": [
    "TRAINING_DIR = \"./semua-gunung/training/\"\n",
    "train_datagen = ImageDataGenerator(rescale=1./255,\n",
    "      rotation_range=40,\n",
    "      width_shift_range=0.2,\n",
    "      height_shift_range=0.2,\n",
    "      shear_range=0.2,\n",
    "      zoom_range=0.2,\n",
    "      horizontal_flip=True,\n",
    "      fill_mode='nearest')\n",
    "train_generator = train_datagen.flow_from_directory(TRAINING_DIR,\n",
    "                                                    batch_size=15,\n",
    "                                                    class_mode='categorical',\n",
    "                                                    target_size=(256, 256))\n",
    "\n",
    "VALIDATION_DIR = \"./semua-gunung/testing/\"\n",
    "validation_datagen = ImageDataGenerator(rescale=1./255,\n",
    "      rotation_range=40,\n",
    "      width_shift_range=0.2,\n",
    "      height_shift_range=0.2,\n",
    "      shear_range=0.2,\n",
    "      zoom_range=0.2,\n",
    "      horizontal_flip=True,\n",
    "      fill_mode='nearest')\n",
    "validation_generator = validation_datagen.flow_from_directory(VALIDATION_DIR,\n",
    "                                                              batch_size=15,\n",
    "                                                              class_mode='categorical',\n",
    "                                                              target_size=(256, 256))\n"
   ]
  },
  {
   "cell_type": "code",
   "execution_count": 7,
   "id": "a5762c94",
   "metadata": {},
   "outputs": [
    {
     "name": "stdout",
     "output_type": "stream",
     "text": [
      "Epoch 1/25\n",
      "22/22 [==============================] - 28s 1s/step - loss: 4.0070 - acc: 0.1889 - val_loss: 1.7223 - val_acc: 0.2162\n",
      "Epoch 2/25\n",
      "22/22 [==============================] - 22s 1s/step - loss: 1.6280 - acc: 0.3034 - val_loss: 1.5379 - val_acc: 0.2973\n",
      "Epoch 3/25\n",
      "22/22 [==============================] - 23s 1s/step - loss: 1.4829 - acc: 0.4365 - val_loss: 1.2362 - val_acc: 0.6486\n",
      "Epoch 4/25\n",
      "22/22 [==============================] - 25s 1s/step - loss: 1.4165 - acc: 0.4644 - val_loss: 1.0791 - val_acc: 0.5405\n",
      "Epoch 5/25\n",
      "22/22 [==============================] - 23s 1s/step - loss: 1.2769 - acc: 0.5170 - val_loss: 0.9907 - val_acc: 0.6216\n",
      "Epoch 6/25\n",
      "22/22 [==============================] - 23s 1s/step - loss: 1.1989 - acc: 0.5635 - val_loss: 1.0822 - val_acc: 0.5946\n",
      "Epoch 7/25\n",
      "22/22 [==============================] - 23s 1s/step - loss: 1.1820 - acc: 0.5851 - val_loss: 1.1694 - val_acc: 0.5946\n",
      "Epoch 8/25\n",
      "22/22 [==============================] - 28s 1s/step - loss: 1.2371 - acc: 0.5697 - val_loss: 0.7984 - val_acc: 0.6216\n",
      "Epoch 9/25\n",
      "22/22 [==============================] - 23s 1s/step - loss: 1.0035 - acc: 0.6563 - val_loss: 0.6680 - val_acc: 0.7568\n",
      "Epoch 10/25\n",
      "22/22 [==============================] - 23s 1s/step - loss: 0.9674 - acc: 0.6563 - val_loss: 0.7851 - val_acc: 0.7297\n",
      "Epoch 11/25\n",
      "22/22 [==============================] - 23s 1s/step - loss: 0.9520 - acc: 0.6471 - val_loss: 1.0420 - val_acc: 0.5946\n",
      "Epoch 12/25\n",
      "22/22 [==============================] - 23s 1s/step - loss: 0.9112 - acc: 0.6471 - val_loss: 0.7624 - val_acc: 0.7838\n",
      "Epoch 13/25\n",
      "22/22 [==============================] - 23s 1s/step - loss: 0.8962 - acc: 0.6997 - val_loss: 0.8669 - val_acc: 0.7027\n",
      "Epoch 14/25\n",
      "22/22 [==============================] - 23s 1s/step - loss: 0.9076 - acc: 0.6842 - val_loss: 0.8165 - val_acc: 0.6486\n",
      "Epoch 15/25\n",
      "22/22 [==============================] - 22s 1s/step - loss: 0.8644 - acc: 0.7059 - val_loss: 0.5685 - val_acc: 0.8649\n",
      "Epoch 16/25\n",
      "22/22 [==============================] - 22s 995ms/step - loss: 0.7271 - acc: 0.7214 - val_loss: 0.8148 - val_acc: 0.7297\n",
      "Epoch 17/25\n",
      "22/22 [==============================] - 23s 1s/step - loss: 0.8692 - acc: 0.6749 - val_loss: 0.6020 - val_acc: 0.8108\n",
      "Epoch 18/25\n",
      "22/22 [==============================] - 23s 1s/step - loss: 0.9176 - acc: 0.6687 - val_loss: 0.6370 - val_acc: 0.8108\n",
      "Epoch 19/25\n",
      "22/22 [==============================] - 22s 1s/step - loss: 0.8074 - acc: 0.6997 - val_loss: 0.6852 - val_acc: 0.7297\n",
      "Epoch 20/25\n",
      "22/22 [==============================] - 22s 1s/step - loss: 0.7701 - acc: 0.7399 - val_loss: 0.6286 - val_acc: 0.7838\n",
      "Epoch 21/25\n",
      "22/22 [==============================] - 22s 1s/step - loss: 0.7973 - acc: 0.7368 - val_loss: 0.6955 - val_acc: 0.7027\n",
      "Epoch 22/25\n",
      "22/22 [==============================] - 22s 1s/step - loss: 0.6867 - acc: 0.7616 - val_loss: 0.5204 - val_acc: 0.7838\n",
      "Epoch 23/25\n",
      "22/22 [==============================] - 22s 999ms/step - loss: 0.6386 - acc: 0.7709 - val_loss: 0.6960 - val_acc: 0.7297\n",
      "Epoch 24/25\n",
      "22/22 [==============================] - 23s 1s/step - loss: 0.7499 - acc: 0.7523 - val_loss: 0.5029 - val_acc: 0.7838\n",
      "Epoch 25/25\n",
      "22/22 [==============================] - 23s 1s/step - loss: 0.6363 - acc: 0.7709 - val_loss: 0.4612 - val_acc: 0.8378\n"
     ]
    }
   ],
   "source": [
    "history = model.fit(train_generator,\n",
    "                    epochs=25,\n",
    "                    verbose=1,\n",
    "                    validation_data=validation_generator,\n",
    "                    callbacks = [callbacks])"
   ]
  },
  {
   "cell_type": "code",
   "execution_count": 8,
   "id": "5edb4f19",
   "metadata": {},
   "outputs": [
    {
     "data": {
      "text/plain": [
       "<Figure size 432x288 with 0 Axes>"
      ]
     },
     "execution_count": 8,
     "metadata": {},
     "output_type": "execute_result"
    },
    {
     "data": {
      "image/png": "[encoded data removed]",
      "text/plain": [
       "<Figure size 432x288 with 1 Axes>"
      ]
     },
     "metadata": {
      "needs_background": "light"
     },
     "output_type": "display_data"
    },
    {
     "data": {
      "image/png": "[encoded data removed]",
      "text/plain": [
       "<Figure size 432x288 with 1 Axes>"
      ]
     },
     "metadata": {
      "needs_background": "light"
     },
     "output_type": "display_data"
    },
    {
     "data": {
      "text/plain": [
       "<Figure size 432x288 with 0 Axes>"
      ]
     },
     "metadata": {},
     "output_type": "display_data"
    }
   ],
   "source": [
    "%matplotlib inline\n",
    "\n",
    "import matplotlib.image  as mpimg\n",
    "import matplotlib.pyplot as plt\n",
    "\n",
    "#-----------------------------------------------------------\n",
    "# Retrieve a list of list results on training and test data\n",
    "# sets for each training epoch\n",
    "#-----------------------------------------------------------\n",
    "acc=history.history['acc']\n",
    "val_acc=history.history['val_acc']\n",
    "loss=history.history['loss']\n",
    "val_loss=history.history['val_loss']\n",
    "\n",
    "epochs=range(len(acc)) # Get number of epochs\n",
    "\n",
    "#------------------------------------------------\n",
    "# Plot training and validation accuracy per epoch\n",
    "#------------------------------------------------\n",
    "plt.plot(epochs, acc, 'r', \"Training Accuracy\")\n",
    "plt.plot(epochs, val_acc, 'b', \"Validation Accuracy\")\n",
    "plt.title('Training and validation accuracy')\n",
    "plt.figure()\n",
    "\n",
    "#------------------------------------------------\n",
    "# Plot training and validation loss per epoch\n",
    "#------------------------------------------------\n",
    "plt.plot(epochs, loss, 'r', \"Training Loss\")\n",
    "plt.plot(epochs, val_loss, 'b', \"Validation Loss\")\n",
    "plt.figure()\n"
   ]
  },
  {
   "cell_type": "markdown",
   "id": "77e5e8ee",
   "metadata": {},
   "source": [
    "# TESTING EVALUATION"
   ]
  },
  {
   "cell_type": "code",
   "execution_count": 50,
   "id": "4d176cec",
   "metadata": {},
   "outputs": [
    {
     "name": "stdout",
     "output_type": "stream",
     "text": [
      "\n",
      "./testing/bromo_1.jpg\n",
      "[[0 1 2 3 4 5]]\n",
      "Gunung Tangkuban Perahu\n",
      "\n",
      "./testing/bromo_2.jpg\n",
      "[[0 2 3 4 5 1]]\n",
      "Gunung Ijen\n",
      "\n",
      "./testing/bromo_3.jpg\n",
      "[[0 2 3 4 5 1]]\n",
      "Gunung Ijen\n",
      "\n",
      "./testing/bromo_4.jpg\n",
      "[[0 1 3 4 5 2]]\n",
      "Gunung Papandayan\n",
      "\n",
      "./testing/ijen_1.jpg\n",
      "[[0 2 4 1 3 5]]\n",
      "Gunung Tangkuban Perahu\n",
      "\n",
      "./testing/ijen_2.jpg\n",
      "[[0 2 3 4 5 1]]\n",
      "Gunung Ijen\n",
      "\n",
      "./testing/ijen_3.jpg\n",
      "[[0 1 3 4 5 2]]\n",
      "Gunung Papandayan\n",
      "\n",
      "./testing/papandayan_1.jpg\n",
      "[[0 1 3 4 5 2]]\n",
      "Gunung Papandayan\n",
      "\n",
      "./testing/papandayan_2.jpg\n",
      "[[0 1 3 4 5 2]]\n",
      "Gunung Papandayan\n",
      "\n",
      "./testing/papandayan_3.jpg\n",
      "[[0 1 3 4 5 2]]\n",
      "Gunung Papandayan\n",
      "\n",
      "./testing/prau_1.jpg\n",
      "[[0 1 2 4 5 3]]\n",
      "Gunung Prau\n",
      "\n",
      "./testing/prau_2.jpg\n",
      "[[0 1 4 5 3 2]]\n",
      "Gunung Papandayan\n",
      "\n",
      "./testing/prau_3.jpg\n",
      "[[0 1 2 4 5 3]]\n",
      "Gunung Prau\n",
      "\n",
      "./testing/rinjani_1.jpg\n",
      "[[0 1 2 3 5 4]]\n",
      "Gunung Rinjani\n",
      "\n",
      "./testing/rinjani_2.jpg\n",
      "[[0 1 3 4 5 2]]\n",
      "Gunung Papandayan\n",
      "\n",
      "./testing/tangkuban_1.jpg\n",
      "[[0 1 3 4 5 2]]\n",
      "Gunung Papandayan\n",
      "\n",
      "./testing/tangkuban_2.jpg\n",
      "[[0 1 2 3 4 5]]\n",
      "Gunung Tangkuban Perahu\n"
     ]
    }
   ],
   "source": [
    "current = os.getcwd()\n",
    "from keras.preprocessing import image\n",
    "import cv2\n",
    "import numpy as np\n",
    "\n",
    "img_path = os.path.join(current,\"testing\\\\\")\n",
    "images = os.listdir(img_path)\n",
    "label_map = train_generator.class_indices\n",
    "label_map = {y: x for x, y in label_map.items()}\n",
    "\n",
    "for i in images:\n",
    "    print()\n",
    "    path = './testing/' + i\n",
    "    img = image.load_img(path, target_size=(256,256))\n",
    "    x = image.img_to_array(img)\n",
    "    x = np.expand_dims(x, axis=0)\n",
    "    \n",
    "    images = np.vstack([x])\n",
    "    prediction = model.predict(images)\n",
    "    \n",
    "    print(path)\n",
    "    print(np.argsort(prediction)[::-1])\n",
    "    print(label_map[np.argmax(prediction)])"
   ]
  },
  {
   "cell_type": "code",
   "execution_count": 19,
   "id": "a715389e",
   "metadata": {},
   "outputs": [
    {
     "data": {
      "text/plain": [
       "{'Gunung Bromo': 0,\n",
       " 'Gunung Ijen': 1,\n",
       " 'Gunung Papandayan': 2,\n",
       " 'Gunung Prau': 3,\n",
       " 'Gunung Rinjani': 4,\n",
       " 'Gunung Tangkuban Perahu': 5}"
      ]
     },
     "execution_count": 19,
     "metadata": {},
     "output_type": "execute_result"
    }
   ],
   "source": [
    "train_generator.class_indices"
   ]
  },
  {
   "cell_type": "markdown",
   "id": "1aab2bd9",
   "metadata": {},
   "source": [
    "# SAVING MODEL AND CONVERT TO TFLITE"
   ]
  },
  {
   "cell_type": "code",
   "execution_count": 20,
   "id": "45535dea",
   "metadata": {},
   "outputs": [],
   "source": [
    "model.save(\"klasifikasi_gunung_better_83%.h5\")"
   ]
  },
  {
   "cell_type": "code",
   "execution_count": 21,
   "id": "31d13be7",
   "metadata": {},
   "outputs": [
    {
     "name": "stdout",
     "output_type": "stream",
     "text": [
      "INFO:tensorflow:Assets written to: C:\\Users\\User\\AppData\\Local\\Temp\\tmp8aixtb63\\assets\n"
     ]
    },
    {
     "name": "stderr",
     "output_type": "stream",
     "text": [
      "WARNING:absl:Buffer deduplication procedure will be skipped when flatbuffer library is not properly loaded\n"
     ]
    },
    {
     "data": {
      "text/plain": [
       "240255000"
      ]
     },
     "execution_count": 21,
     "metadata": {},
     "output_type": "execute_result"
    }
   ],
   "source": [
    "model_gunung = tf.keras.models.load_model('klasifikasi_gunung_better_83%.h5')\n",
    "converter = tf.lite.TFLiteConverter.from_keras_model(model_gunung)\n",
    "tflite_model = converter.convert()\n",
    "open(\"converted_model_gunung_better_83%.tflite\", \"wb\").write(tflite_model)"
   ]
  },
  {
   "cell_type": "code",
   "execution_count": 44,
   "id": "bf25e0e6",
   "metadata": {},
   "outputs": [],
   "source": [
    "tf.keras.backend.clear_session()"
   ]
  },
  {
   "cell_type": "markdown",
   "id": "073027e3",
   "metadata": {},
   "source": [
    "# RUN MODEL"
   ]
  },
  {
   "cell_type": "code",
   "execution_count": null,
   "id": "f98a13a3",
   "metadata": {},
   "outputs": [],
   "source": [
    "import numpy as np\n",
    "import tensorflow as tf"
   ]
  },
  {
   "cell_type": "code",
   "execution_count": 3,
   "id": "fac5d7ff",
   "metadata": {},
   "outputs": [],
   "source": [
    "model_gunung = tf.keras.models.load_model('klasifikasi_gunung.h5')"
   ]
  },
  {
   "cell_type": "code",
   "execution_count": 8,
   "id": "ed56a328",
   "metadata": {},
   "outputs": [
    {
     "data": {
      "text/plain": [
       "array([[0., 0., 1., 0., 0., 0.]], dtype=float32)"
      ]
     },
     "execution_count": 8,
     "metadata": {},
     "output_type": "execute_result"
    }
   ],
   "source": [
    "path = './testing/rinjani_2.jpg'\n",
    "img = tf.keras.preprocessing.image.load_img(path, target_size=(300, 300))\n",
    "x = tf.keras.preprocessing.image.img_to_array(img)\n",
    "x = np.expand_dims(x, axis=0)\n",
    "    \n",
    "images = np.vstack([x])\n",
    "prediction = model_gunung.predict(images)\n",
    "\n",
    "model_gunung.predict(images)"
   ]
  },
  {
   "cell_type": "code",
   "execution_count": null,
   "id": "9bed0e6b",
   "metadata": {},
   "outputs": [],
   "source": []
  }
 ],
 "metadata": {
  "kernelspec": {
   "display_name": "Python 3 (ipykernel)",
   "language": "python",
   "name": "python3"
  },
  "language_info": {
   "codemirror_mode": {
    "name": "ipython",
    "version": 3
   },
   "file_extension": ".py",
   "mimetype": "text/x-python",
   "name": "python",
   "nbconvert_exporter": "python",
   "pygments_lexer": "ipython3",
   "version": "3.7.0"
  }
 },
 "nbformat": 4,
 "nbformat_minor": 5
}
