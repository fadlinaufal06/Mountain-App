{
 "cells": [
  {
   "cell_type": "markdown",
   "id": "9b45ba96",
   "metadata": {},
   "source": [
    "# IMPORT LIBRARIES"
   ]
  },
  {
   "cell_type": "code",
   "execution_count": 1,
   "id": "58e5cdb2",
   "metadata": {},
   "outputs": [],
   "source": [
    "import os\n",
    "import zipfile\n",
    "import random\n",
    "import tensorflow as tf\n",
    "import numpy as np\n",
    "from tensorflow.keras.optimizers import RMSprop,Adam\n",
    "from tensorflow.keras.preprocessing.image import ImageDataGenerator\n",
    "from shutil import copyfile\n",
    "import random\n",
    "import matplotlib.pyplot as plt\n",
    "from sklearn.model_selection import GridSearchCV"
   ]
  },
  {
   "cell_type": "code",
   "execution_count": 2,
   "id": "5892ed77",
   "metadata": {},
   "outputs": [],
   "source": [
    "try:\n",
    "    os.mkdir('./semua-gunung')\n",
    "    os.mkdir('./semua-gunung/training')\n",
    "    os.mkdir('./semua-gunung/testing')\n",
    "except OSError:\n",
    "    pass\n",
    "\n",
    "list_iter = [\"training\",\"testing\"]\n",
    "list_gunung = os.listdir(\"./Gunung/\")\n",
    "\n",
    "for i in list_iter:\n",
    "    for j in list_gunung:\n",
    "        try:\n",
    "            os.mkdir(\"./semua-gunung/\"+i+\"/\"+j)\n",
    "        except OSError:\n",
    "            pass\n"
   ]
  },
  {
   "cell_type": "code",
   "execution_count": 3,
   "id": "f8e2c0ec",
   "metadata": {},
   "outputs": [],
   "source": [
    "def get_path(nama_gunung):\n",
    "    source = \"./Gunung/\" + nama_gunung + \"/\"\n",
    "    train_dest = \"./semua-gunung/training/\" + nama_gunung + \"/\"\n",
    "    test_dest = \"./semua-gunung/testing/\" + nama_gunung + \"/\"\n",
    "    \n",
    "    return source,train_dest,test_dest"
   ]
  },
  {
   "cell_type": "code",
   "execution_count": 4,
   "id": "fe5ef093",
   "metadata": {},
   "outputs": [],
   "source": [
    "def splitting(source, training, testing, split_size):\n",
    "    list_file = []\n",
    "    for _ in os.listdir(source):\n",
    "        file = source + _\n",
    "        if os.path.getsize(file) > 0:\n",
    "            list_file.append(_)\n",
    "\n",
    "    training_length = int(len(list_file) * split_size)\n",
    "    testing_length = int(len(list_file) - training_length)\n",
    "    shuffled_set = random.sample(list_file, len(list_file))\n",
    "    training_set = shuffled_set[0:training_length]\n",
    "    testing_set = shuffled_set[:testing_length]\n",
    "\n",
    "    for filename in training_set:\n",
    "        this_file = source + filename\n",
    "        destination = training + filename\n",
    "        copyfile(this_file, destination)\n",
    "\n",
    "    for filename in testing_set:\n",
    "        this_file = source + filename\n",
    "        destination = testing + filename\n",
    "        copyfile(this_file, destination)\n",
    "        \n",
    "rinjani_source, training_rinjani_dest, testing_rinjani_dest = get_path(\"Gunung Rinjani\")\n",
    "tangkuban_source, training_tangkuban_dest, testing_tangkuban_dest = get_path(\"Gunung Tangkuban Perahu\")\n",
    "bromo_source, training_bromo_dest, testing_bromo_dest = get_path(\"Gunung Bromo\")\n",
    "ijen_source, training_ijen_dest, testing_ijen_dest = get_path(\"Gunung Ijen\")\n",
    "papandayan_source, training_papandayan_dest, testing_papandayan_dest = get_path(\"Gunung Papandayan\")\n",
    "\n",
    "\n",
    "split_size = 0.9\n",
    "splitting(rinjani_source,training_rinjani_dest,testing_rinjani_dest,split_size)\n",
    "splitting(tangkuban_source,training_tangkuban_dest,testing_tangkuban_dest,split_size)\n",
    "splitting(bromo_source,training_bromo_dest,testing_bromo_dest,split_size)\n",
    "splitting(ijen_source,training_ijen_dest,testing_ijen_dest,split_size)\n",
    "splitting(papandayan_source,training_papandayan_dest,testing_papandayan_dest,split_size)"
   ]
  },
  {
   "cell_type": "code",
   "execution_count": 5,
   "id": "39a4857e",
   "metadata": {},
   "outputs": [
    {
     "data": {
      "text/plain": [
       "['rinjani_1.jpg',\n",
       " 'rinjani_10.jpg',\n",
       " 'rinjani_11.jpg',\n",
       " 'rinjani_12.jpg',\n",
       " 'rinjani_13.jpg']"
      ]
     },
     "execution_count": 5,
     "metadata": {},
     "output_type": "execute_result"
    }
   ],
   "source": [
    "os.listdir('./Gunung/Gunung Rinjani/')[:5]"
   ]
  },
  {
   "cell_type": "markdown",
   "id": "fd81bfa1",
   "metadata": {},
   "source": [
    "# DEFINING CALLBACKS"
   ]
  },
  {
   "cell_type": "code",
   "execution_count": 6,
   "id": "7055f798",
   "metadata": {},
   "outputs": [],
   "source": [
    "lr_schedule = tf.keras.callbacks.LearningRateScheduler(\n",
    "    lambda epoch: 1e-7 * 10**(epoch/10))"
   ]
  },
  {
   "cell_type": "code",
   "execution_count": 88,
   "id": "96d3b707",
   "metadata": {},
   "outputs": [],
   "source": [
    "class myCallback(tf.keras.callbacks.Callback):\n",
    "    def on_epoch_end(self, epoch, logs={}):\n",
    "        if(logs.get('acc')>0.84):\n",
    "            print(\"\\nReached 84% accuracy so training done!\")\n",
    "            self.model.stop_training = True\n",
    "\n",
    "callbacks = myCallback()"
   ]
  },
  {
   "cell_type": "code",
   "execution_count": 89,
   "id": "ed5712f5",
   "metadata": {},
   "outputs": [],
   "source": [
    "checkpoint_cb = tf.keras.callbacks.ModelCheckpoint(\"my_keras_model.h5\", save_best_only= True)"
   ]
  },
  {
   "cell_type": "markdown",
   "id": "2f379b07",
   "metadata": {},
   "source": [
    "# MODEL BUILDING"
   ]
  },
  {
   "cell_type": "code",
   "execution_count": 90,
   "id": "65dff9b4",
   "metadata": {},
   "outputs": [],
   "source": [
    "model = tf.keras.models.Sequential([\n",
    "    tf.keras.layers.Conv2D(16, (3, 3), activation='relu', input_shape=(300, 300, 3)),\n",
    "    tf.keras.layers.MaxPooling2D(2, 2),\n",
    "    tf.keras.layers.Conv2D(32, (3, 3), activation='relu'),\n",
    "    tf.keras.layers.MaxPooling2D(2, 2),\n",
    "    tf.keras.layers.Conv2D(64, (3, 3), activation='relu'),\n",
    "    tf.keras.layers.MaxPooling2D(2, 2),\n",
    "    tf.keras.layers.Conv2D(64, (3, 3), activation='relu'),\n",
    "    tf.keras.layers.MaxPooling2D(2, 2),\n",
    "    tf.keras.layers.Flatten(),\n",
    "    tf.keras.layers.Dense(128, activation='relu'),\n",
    "    tf.keras.layers.Dropout(0.1),\n",
    "    tf.keras.layers.Dense(64, activation='relu'),\n",
    "    tf.keras.layers.Dense(5, activation='softmax')\n",
    "])\n",
    "\n",
    "model.compile(optimizer=RMSprop(learning_rate=5e-04), loss='categorical_crossentropy', metrics=['acc'])"
   ]
  },
  {
   "cell_type": "code",
   "execution_count": 91,
   "id": "8a2afa09",
   "metadata": {},
   "outputs": [
    {
     "name": "stdout",
     "output_type": "stream",
     "text": [
      "Model: \"sequential\"\n",
      "_________________________________________________________________\n",
      " Layer (type)                Output Shape              Param #   \n",
      "=================================================================\n",
      " conv2d (Conv2D)             (None, 298, 298, 16)      448       \n",
      "                                                                 \n",
      " max_pooling2d (MaxPooling2D  (None, 149, 149, 16)     0         \n",
      " )                                                               \n",
      "                                                                 \n",
      " conv2d_1 (Conv2D)           (None, 147, 147, 32)      4640      \n",
      "                                                                 \n",
      " max_pooling2d_1 (MaxPooling  (None, 73, 73, 32)       0         \n",
      " 2D)                                                             \n",
      "                                                                 \n",
      " conv2d_2 (Conv2D)           (None, 71, 71, 64)        18496     \n",
      "                                                                 \n",
      " max_pooling2d_2 (MaxPooling  (None, 35, 35, 64)       0         \n",
      " 2D)                                                             \n",
      "                                                                 \n",
      " conv2d_3 (Conv2D)           (None, 33, 33, 64)        36928     \n",
      "                                                                 \n",
      " max_pooling2d_3 (MaxPooling  (None, 16, 16, 64)       0         \n",
      " 2D)                                                             \n",
      "                                                                 \n",
      " flatten (Flatten)           (None, 16384)             0         \n",
      "                                                                 \n",
      " dense (Dense)               (None, 128)               2097280   \n",
      "                                                                 \n",
      " dropout (Dropout)           (None, 128)               0         \n",
      "                                                                 \n",
      " dense_1 (Dense)             (None, 64)                8256      \n",
      "                                                                 \n",
      " dense_2 (Dense)             (None, 5)                 325       \n",
      "                                                                 \n",
      "=================================================================\n",
      "Total params: 2,166,373\n",
      "Trainable params: 2,166,373\n",
      "Non-trainable params: 0\n",
      "_________________________________________________________________\n"
     ]
    }
   ],
   "source": [
    "model.summary()"
   ]
  },
  {
   "cell_type": "code",
   "execution_count": 92,
   "id": "d1b9c243",
   "metadata": {},
   "outputs": [
    {
     "name": "stdout",
     "output_type": "stream",
     "text": [
      "Found 269 images belonging to 5 classes.\n",
      "Found 31 images belonging to 5 classes.\n",
      "Found 14 images belonging to 5 classes.\n"
     ]
    }
   ],
   "source": [
    "TRAINING_DIR = \"./semua-gunung/training/\"\n",
    "train_datagen = ImageDataGenerator(rescale=1./255,\n",
    "      rotation_range=40,\n",
    "      width_shift_range=0.2,\n",
    "      height_shift_range=0.2,\n",
    "      shear_range=0.2,\n",
    "      horizontal_flip=True,\n",
    "      fill_mode='nearest')\n",
    "train_generator = train_datagen.flow_from_directory(TRAINING_DIR,\n",
    "                                                    batch_size=15,\n",
    "                                                    class_mode='categorical',\n",
    "                                                    target_size=(300, 300))\n",
    "\n",
    "VALIDATION_DIR = \"./semua-gunung/testing/\"\n",
    "validation_datagen = ImageDataGenerator(rescale=1./255,\n",
    "      rotation_range=40,\n",
    "      width_shift_range=0.2,\n",
    "      height_shift_range=0.2,\n",
    "      shear_range=0.2,\n",
    "      horizontal_flip=True,\n",
    "      fill_mode='nearest')\n",
    "validation_generator = validation_datagen.flow_from_directory(VALIDATION_DIR,\n",
    "                                                              batch_size=15,\n",
    "                                                              class_mode='categorical',\n",
    "                                                              target_size=(300, 300))\n",
    "\n",
    "TESTING_DIR = \"./testing/\"\n",
    "testing_datagen = ImageDataGenerator(rescale=1./255)\n",
    "testing_generator = testing_datagen.flow_from_directory(TESTING_DIR,\n",
    "                                                        class_mode='categorical',\n",
    "                                                        target_size=(300,300))\n",
    "\n"
   ]
  },
  {
   "cell_type": "code",
   "execution_count": 93,
   "id": "a5762c94",
   "metadata": {},
   "outputs": [
    {
     "name": "stdout",
     "output_type": "stream",
     "text": [
      "Epoch 1/30\n",
      "18/18 [==============================] - 21s 1s/step - loss: 1.6508 - acc: 0.2119 - val_loss: 1.5740 - val_acc: 0.3226\n",
      "Epoch 2/30\n",
      "18/18 [==============================] - 18s 1s/step - loss: 1.4852 - acc: 0.3532 - val_loss: 1.2957 - val_acc: 0.4839\n",
      "Epoch 3/30\n",
      "18/18 [==============================] - 18s 1s/step - loss: 1.3106 - acc: 0.4387 - val_loss: 1.1131 - val_acc: 0.5161\n",
      "Epoch 4/30\n",
      "18/18 [==============================] - 18s 998ms/step - loss: 1.2470 - acc: 0.4796 - val_loss: 1.0225 - val_acc: 0.6129\n",
      "Epoch 5/30\n",
      "18/18 [==============================] - 18s 1s/step - loss: 1.0891 - acc: 0.5725 - val_loss: 1.1821 - val_acc: 0.5484\n",
      "Epoch 6/30\n",
      "18/18 [==============================] - 18s 993ms/step - loss: 1.0234 - acc: 0.6283 - val_loss: 0.9231 - val_acc: 0.6774\n",
      "Epoch 7/30\n",
      "18/18 [==============================] - 18s 997ms/step - loss: 0.9102 - acc: 0.6431 - val_loss: 0.9793 - val_acc: 0.5806\n",
      "Epoch 8/30\n",
      "18/18 [==============================] - 18s 1s/step - loss: 1.0344 - acc: 0.5874 - val_loss: 0.7389 - val_acc: 0.7097\n",
      "Epoch 9/30\n",
      "18/18 [==============================] - 18s 987ms/step - loss: 0.8777 - acc: 0.6394 - val_loss: 0.7362 - val_acc: 0.7419\n",
      "Epoch 10/30\n",
      "18/18 [==============================] - 18s 1s/step - loss: 0.8610 - acc: 0.6840 - val_loss: 0.6878 - val_acc: 0.6774\n",
      "Epoch 11/30\n",
      "18/18 [==============================] - 18s 996ms/step - loss: 0.8899 - acc: 0.6803 - val_loss: 0.4871 - val_acc: 0.8387\n",
      "Epoch 12/30\n",
      "18/18 [==============================] - 18s 983ms/step - loss: 0.7984 - acc: 0.6840 - val_loss: 0.5720 - val_acc: 0.8065\n",
      "Epoch 13/30\n",
      "18/18 [==============================] - 18s 1s/step - loss: 0.7527 - acc: 0.7472 - val_loss: 0.5903 - val_acc: 0.8710\n",
      "Epoch 14/30\n",
      "18/18 [==============================] - 18s 990ms/step - loss: 0.8281 - acc: 0.6877 - val_loss: 0.7151 - val_acc: 0.7419\n",
      "Epoch 15/30\n",
      "18/18 [==============================] - 18s 996ms/step - loss: 0.7434 - acc: 0.7249 - val_loss: 0.8833 - val_acc: 0.6774\n",
      "Epoch 16/30\n",
      "18/18 [==============================] - 18s 1s/step - loss: 0.7496 - acc: 0.7063 - val_loss: 0.6606 - val_acc: 0.7097\n",
      "Epoch 17/30\n",
      "18/18 [==============================] - 18s 993ms/step - loss: 0.7325 - acc: 0.7435 - val_loss: 0.6257 - val_acc: 0.7742\n",
      "Epoch 18/30\n",
      "18/18 [==============================] - 18s 1s/step - loss: 0.6275 - acc: 0.7807 - val_loss: 0.5872 - val_acc: 0.8387\n",
      "Epoch 19/30\n",
      "18/18 [==============================] - 18s 984ms/step - loss: 0.7421 - acc: 0.7175 - val_loss: 0.4119 - val_acc: 0.8710\n",
      "Epoch 20/30\n",
      "18/18 [==============================] - 18s 998ms/step - loss: 0.6488 - acc: 0.7546 - val_loss: 0.6912 - val_acc: 0.7097\n",
      "Epoch 21/30\n",
      "18/18 [==============================] - 18s 983ms/step - loss: 0.7584 - acc: 0.7323 - val_loss: 0.6920 - val_acc: 0.7419\n",
      "Epoch 22/30\n",
      "18/18 [==============================] - 18s 989ms/step - loss: 0.6764 - acc: 0.7472 - val_loss: 0.6647 - val_acc: 0.7097\n",
      "Epoch 23/30\n",
      "18/18 [==============================] - 18s 1s/step - loss: 0.6036 - acc: 0.7658 - val_loss: 0.7070 - val_acc: 0.7742\n",
      "Epoch 24/30\n",
      "18/18 [==============================] - 18s 990ms/step - loss: 0.6171 - acc: 0.7546 - val_loss: 0.6278 - val_acc: 0.7097\n",
      "Epoch 25/30\n",
      "18/18 [==============================] - 18s 988ms/step - loss: 0.6209 - acc: 0.7732 - val_loss: 0.8101 - val_acc: 0.6452\n",
      "Epoch 26/30\n",
      "18/18 [==============================] - 18s 976ms/step - loss: 0.6333 - acc: 0.7435 - val_loss: 0.3662 - val_acc: 0.8710\n",
      "Epoch 27/30\n",
      "18/18 [==============================] - 18s 979ms/step - loss: 0.5830 - acc: 0.7807 - val_loss: 0.2678 - val_acc: 0.9032\n",
      "Epoch 28/30\n",
      "18/18 [==============================] - 18s 982ms/step - loss: 0.5374 - acc: 0.8067 - val_loss: 0.4215 - val_acc: 0.8387\n",
      "Epoch 29/30\n",
      "18/18 [==============================] - 18s 983ms/step - loss: 0.5705 - acc: 0.8067 - val_loss: 0.5622 - val_acc: 0.7742\n",
      "Epoch 30/30\n",
      "18/18 [==============================] - 18s 1s/step - loss: 0.5884 - acc: 0.8327 - val_loss: 0.4721 - val_acc: 0.8065\n"
     ]
    }
   ],
   "source": [
    "history = model.fit(train_generator,\n",
    "                    epochs=30,\n",
    "                    verbose=1,\n",
    "                    validation_data=validation_generator,\n",
    "                    callbacks = [callbacks])"
   ]
  },
  {
   "cell_type": "code",
   "execution_count": 94,
   "id": "5edb4f19",
   "metadata": {},
   "outputs": [
    {
     "data": {
      "text/plain": [
       "<Figure size 432x288 with 0 Axes>"
      ]
     },
     "execution_count": 94,
     "metadata": {},
     "output_type": "execute_result"
    },
    {
     "data": {
      "image/png": "[encoded data removed]",
      "text/plain": [
       "<Figure size 432x288 with 1 Axes>"
      ]
     },
     "metadata": {
      "needs_background": "light"
     },
     "output_type": "display_data"
    },
    {
     "data": {
      "image/png": "[encoded data removed]",
      "text/plain": [
       "<Figure size 432x288 with 1 Axes>"
      ]
     },
     "metadata": {
      "needs_background": "light"
     },
     "output_type": "display_data"
    },
    {
     "data": {
      "text/plain": [
       "<Figure size 432x288 with 0 Axes>"
      ]
     },
     "metadata": {},
     "output_type": "display_data"
    }
   ],
   "source": [
    "%matplotlib inline\n",
    "\n",
    "import matplotlib.image  as mpimg\n",
    "import matplotlib.pyplot as plt\n",
    "\n",
    "#-----------------------------------------------------------\n",
    "# Retrieve a list of list results on training and test data\n",
    "# sets for each training epoch\n",
    "#-----------------------------------------------------------\n",
    "acc=history.history['acc']\n",
    "val_acc=history.history['val_acc']\n",
    "loss=history.history['loss']\n",
    "val_loss=history.history['val_loss']\n",
    "\n",
    "epochs=range(len(acc)) # Get number of epochs\n",
    "\n",
    "#------------------------------------------------\n",
    "# Plot training and validation accuracy per epoch\n",
    "#------------------------------------------------\n",
    "plt.plot(epochs, acc, 'r', \"Training Accuracy\")\n",
    "plt.plot(epochs, val_acc, 'b', \"Validation Accuracy\")\n",
    "plt.title('Training and validation accuracy')\n",
    "plt.figure()\n",
    "\n",
    "#------------------------------------------------\n",
    "# Plot training and validation loss per epoch\n",
    "#------------------------------------------------\n",
    "plt.plot(epochs, loss, 'r', \"Training Loss\")\n",
    "plt.plot(epochs, val_loss, 'b', \"Validation Loss\")\n",
    "plt.figure()\n"
   ]
  },
  {
   "cell_type": "code",
   "execution_count": 95,
   "id": "bf5b5be9",
   "metadata": {},
   "outputs": [],
   "source": [
    "label_map = train_generator.class_indices\n",
    "label_map = {y: x for x, y in label_map.items()}"
   ]
  },
  {
   "cell_type": "code",
   "execution_count": 103,
   "id": "617522c1",
   "metadata": {},
   "outputs": [
    {
     "name": "stdout",
     "output_type": "stream",
     "text": [
      "1/1 [==============================] - 0s 263ms/step - loss: 0.4754 - acc: 0.7857\n"
     ]
    }
   ],
   "source": [
    "scores = model.evaluate(testing_generator,verbose=1)"
   ]
  },
  {
   "cell_type": "code",
   "execution_count": 97,
   "id": "e8be9feb",
   "metadata": {},
   "outputs": [],
   "source": [
    "prediction = model.predict(testing_generator)"
   ]
  },
  {
   "cell_type": "code",
   "execution_count": 98,
   "id": "c73e7f30",
   "metadata": {},
   "outputs": [
    {
     "name": "stdout",
     "output_type": "stream",
     "text": [
      "Gunung Papandayan False\n",
      "Gunung Ijen False\n",
      "Gunung Bromo True\n",
      "Gunung Papandayan False\n",
      "Gunung Papandayan False\n",
      "Gunung Bromo False\n",
      "Gunung Tangkuban Perahu False\n",
      "Gunung Rinjani False\n",
      "Gunung Bromo False\n",
      "Gunung Bromo False\n",
      "Gunung Papandayan False\n",
      "Gunung Rinjani True\n",
      "Gunung Rinjani False\n",
      "Gunung Tangkuban Perahu True\n"
     ]
    }
   ],
   "source": [
    "for i in range(14):\n",
    "    print(label_map[np.argmax(prediction[i])],np.argmax(prediction[i])==testing_generator.labels[i])"
   ]
  },
  {
   "cell_type": "markdown",
   "id": "77e5e8ee",
   "metadata": {},
   "source": [
    "# TESTING EVALUATION"
   ]
  },
  {
   "cell_type": "code",
   "execution_count": 99,
   "id": "4d176cec",
   "metadata": {},
   "outputs": [
    {
     "name": "stdout",
     "output_type": "stream",
     "text": [
      "\n",
      "./testing_copy/bromo_1.jpg\n",
      "[[0 2 3 4 1]]\n",
      "Gunung Ijen\n",
      "\n",
      "./testing_copy/bromo_2.jpg\n",
      "[[0 2 3 4 1]]\n",
      "Gunung Ijen\n",
      "\n",
      "./testing_copy/bromo_3.jpg\n",
      "[[0 2 3 4 1]]\n",
      "Gunung Ijen\n",
      "\n",
      "./testing_copy/bromo_4.jpg\n",
      "[[1 3 4 0 2]]\n",
      "Gunung Papandayan\n",
      "\n",
      "./testing_copy/ijen_1.jpg\n",
      "[[0 2 3 4 1]]\n",
      "Gunung Ijen\n",
      "\n",
      "./testing_copy/ijen_2.jpg\n",
      "[[0 2 3 4 1]]\n",
      "Gunung Ijen\n",
      "\n",
      "./testing_copy/ijen_3.jpg\n",
      "[[0 2 3 4 1]]\n",
      "Gunung Ijen\n",
      "\n",
      "./testing_copy/papandayan_1.jpg\n",
      "[[0 1 3 4 2]]\n",
      "Gunung Papandayan\n",
      "\n",
      "./testing_copy/papandayan_2.jpg\n",
      "[[0 1 3 4 2]]\n",
      "Gunung Papandayan\n",
      "\n",
      "./testing_copy/papandayan_3.jpg\n",
      "[[0 1 3 4 2]]\n",
      "Gunung Papandayan\n",
      "\n",
      "./testing_copy/rinjani_1.jpg\n",
      "[[0 1 2 4 3]]\n",
      "Gunung Rinjani\n",
      "\n",
      "./testing_copy/rinjani_2.jpg\n",
      "[[0 1 3 4 2]]\n",
      "Gunung Papandayan\n",
      "\n",
      "./testing_copy/tangkuban_1.jpg\n",
      "[[0 1 2 3 4]]\n",
      "Gunung Tangkuban Perahu\n",
      "\n",
      "./testing_copy/tangkuban_2.jpg\n",
      "[[0 1 2 3 4]]\n",
      "Gunung Tangkuban Perahu\n"
     ]
    }
   ],
   "source": [
    "current = os.getcwd()\n",
    "from keras.preprocessing import image\n",
    "import cv2\n",
    "import numpy as np\n",
    "\n",
    "img_path = os.path.join(current,\"testing_copy\\\\\")\n",
    "images = os.listdir(img_path)\n",
    "label_map = train_generator.class_indices\n",
    "label_map = {y: x for x, y in label_map.items()}\n",
    "\n",
    "for i in images:\n",
    "    print()\n",
    "    path = './testing_copy/' + i\n",
    "    img = image.load_img(path, target_size=(300,300))\n",
    "    x = image.img_to_array(img)\n",
    "    x = np.expand_dims(x, axis=0)\n",
    "    \n",
    "    images = np.vstack([x])\n",
    "    prediction = model.predict(images)\n",
    "    \n",
    "    print(path)\n",
    "    print(np.argsort(prediction)[::-1])\n",
    "    print(label_map[np.argmax(prediction)])"
   ]
  },
  {
   "cell_type": "code",
   "execution_count": 19,
   "id": "a715389e",
   "metadata": {},
   "outputs": [
    {
     "data": {
      "text/plain": [
       "{'Gunung Bromo': 0,\n",
       " 'Gunung Ijen': 1,\n",
       " 'Gunung Papandayan': 2,\n",
       " 'Gunung Prau': 3,\n",
       " 'Gunung Rinjani': 4,\n",
       " 'Gunung Tangkuban Perahu': 5}"
      ]
     },
     "execution_count": 19,
     "metadata": {},
     "output_type": "execute_result"
    }
   ],
   "source": [
    "train_generator.class_indices"
   ]
  },
  {
   "cell_type": "markdown",
   "id": "1aab2bd9",
   "metadata": {},
   "source": [
    "# SAVING MODEL AND CONVERT TO TFLITE"
   ]
  },
  {
   "cell_type": "code",
   "execution_count": 100,
   "id": "45535dea",
   "metadata": {},
   "outputs": [],
   "source": [
    "model.save(\"klasifikasi_gunung_2.h5\")"
   ]
  },
  {
   "cell_type": "code",
   "execution_count": 101,
   "id": "31d13be7",
   "metadata": {},
   "outputs": [
    {
     "name": "stdout",
     "output_type": "stream",
     "text": [
      "INFO:tensorflow:Assets written to: C:\\Users\\User\\AppData\\Local\\Temp\\tmpy964_l99\\assets\n"
     ]
    },
    {
     "name": "stderr",
     "output_type": "stream",
     "text": [
      "INFO:tensorflow:Assets written to: C:\\Users\\User\\AppData\\Local\\Temp\\tmpy964_l99\\assets\n",
      "WARNING:absl:Buffer deduplication procedure will be skipped when flatbuffer library is not properly loaded\n"
     ]
    },
    {
     "data": {
      "text/plain": [
       "8670080"
      ]
     },
     "execution_count": 101,
     "metadata": {},
     "output_type": "execute_result"
    }
   ],
   "source": [
    "model_gunung = tf.keras.models.load_model('klasifikasi_gunung_2.h5')\n",
    "converter = tf.lite.TFLiteConverter.from_keras_model(model_gunung)\n",
    "tflite_model = converter.convert()\n",
    "open(\"converted_model_gunung_2.tflite\", \"wb\").write(tflite_model)"
   ]
  },
  {
   "cell_type": "code",
   "execution_count": 87,
   "id": "bf25e0e6",
   "metadata": {},
   "outputs": [],
   "source": [
    "tf.keras.backend.clear_session()"
   ]
  },
  {
   "cell_type": "markdown",
   "id": "073027e3",
   "metadata": {},
   "source": [
    "# RUN MODEL"
   ]
  },
  {
   "cell_type": "code",
   "execution_count": null,
   "id": "f98a13a3",
   "metadata": {},
   "outputs": [],
   "source": [
    "import numpy as np\n",
    "import tensorflow as tf"
   ]
  },
  {
   "cell_type": "code",
   "execution_count": 136,
   "id": "fac5d7ff",
   "metadata": {},
   "outputs": [],
   "source": [
    "model_gunung = tf.keras.models.load_model('klasifikasi_gunung_better_83%.h5')"
   ]
  },
  {
   "cell_type": "code",
   "execution_count": 8,
   "id": "ed56a328",
   "metadata": {},
   "outputs": [
    {
     "data": {
      "text/plain": [
       "array([[0., 0., 1., 0., 0., 0.]], dtype=float32)"
      ]
     },
     "execution_count": 8,
     "metadata": {},
     "output_type": "execute_result"
    }
   ],
   "source": [
    "path = './testing/rinjani_2.jpg'\n",
    "img = tf.keras.preprocessing.image.load_img(path, target_size=(300, 300))\n",
    "x = tf.keras.preprocessing.image.img_to_array(img)\n",
    "x = np.expand_dims(x, axis=0)\n",
    "    \n",
    "images = np.vstack([x])\n",
    "prediction = model_gunung.predict(images)\n",
    "\n",
    "model_gunung.predict(images)"
   ]
  },
  {
   "cell_type": "code",
   "execution_count": null,
   "id": "9bed0e6b",
   "metadata": {},
   "outputs": [],
   "source": []
  }
 ],
 "metadata": {
  "kernelspec": {
   "display_name": "Python 3 (ipykernel)",
   "language": "python",
   "name": "python3"
  },
  "language_info": {
   "codemirror_mode": {
    "name": "ipython",
    "version": 3
   },
   "file_extension": ".py",
   "mimetype": "text/x-python",
   "name": "python",
   "nbconvert_exporter": "python",
   "pygments_lexer": "ipython3",
   "version": "3.10.4"
  }
 },
 "nbformat": 4,
 "nbformat_minor": 5
}
